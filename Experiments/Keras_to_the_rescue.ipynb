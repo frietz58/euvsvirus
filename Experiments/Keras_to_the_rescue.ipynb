{
  "nbformat": 4,
  "nbformat_minor": 0,
  "metadata": {
    "accelerator": "GPU",
    "colab": {
      "name": "Keras_to_the_rescue.ipynb",
      "provenance": [],
      "collapsed_sections": [
        "2K4JQMFo1-_S"
      ]
    },
    "kernelspec": {
      "name": "python3",
      "display_name": "Python 3"
    }
  },
  "cells": [
    {
      "cell_type": "markdown",
      "metadata": {
        "id": "r2cgSihcjBTf",
        "colab_type": "text"
      },
      "source": [
        "# Kalman to the rescue!\n",
        "## Keras Version\n",
        "An attempt to change the notebook from [this tutorial](https://towardsdatascience.com/bert-to-the-rescue-17671379687f) to our binarized liar dataset. It uses BERT for binary classification.\n",
        "\n"
      ]
    },
    {
      "cell_type": "code",
      "metadata": {
        "colab_type": "code",
        "id": "7_FXneEfpdMM",
        "scrolled": true,
        "outputId": "c5cc52d9-deaf-4036-d2fa-7fd9d899e0bf",
        "colab": {
          "base_uri": "https://localhost:8080/",
          "height": 454
        }
      },
      "source": [
        "!pip install transformers pytorch-nlp"
      ],
      "execution_count": 1,
      "outputs": [
        {
          "output_type": "stream",
          "text": [
            "Requirement already satisfied: transformers in /usr/local/lib/python3.6/dist-packages (2.8.0)\n",
            "Requirement already satisfied: pytorch-nlp in /usr/local/lib/python3.6/dist-packages (0.5.0)\n",
            "Requirement already satisfied: regex!=2019.12.17 in /usr/local/lib/python3.6/dist-packages (from transformers) (2019.12.20)\n",
            "Requirement already satisfied: sentencepiece in /usr/local/lib/python3.6/dist-packages (from transformers) (0.1.86)\n",
            "Requirement already satisfied: requests in /usr/local/lib/python3.6/dist-packages (from transformers) (2.21.0)\n",
            "Requirement already satisfied: numpy in /usr/local/lib/python3.6/dist-packages (from transformers) (1.18.3)\n",
            "Requirement already satisfied: tokenizers==0.5.2 in /usr/local/lib/python3.6/dist-packages (from transformers) (0.5.2)\n",
            "Requirement already satisfied: tqdm>=4.27 in /usr/local/lib/python3.6/dist-packages (from transformers) (4.38.0)\n",
            "Requirement already satisfied: filelock in /usr/local/lib/python3.6/dist-packages (from transformers) (3.0.12)\n",
            "Requirement already satisfied: dataclasses; python_version < \"3.7\" in /usr/local/lib/python3.6/dist-packages (from transformers) (0.7)\n",
            "Requirement already satisfied: boto3 in /usr/local/lib/python3.6/dist-packages (from transformers) (1.12.43)\n",
            "Requirement already satisfied: sacremoses in /usr/local/lib/python3.6/dist-packages (from transformers) (0.0.41)\n",
            "Requirement already satisfied: idna<2.9,>=2.5 in /usr/local/lib/python3.6/dist-packages (from requests->transformers) (2.8)\n",
            "Requirement already satisfied: certifi>=2017.4.17 in /usr/local/lib/python3.6/dist-packages (from requests->transformers) (2020.4.5.1)\n",
            "Requirement already satisfied: chardet<3.1.0,>=3.0.2 in /usr/local/lib/python3.6/dist-packages (from requests->transformers) (3.0.4)\n",
            "Requirement already satisfied: urllib3<1.25,>=1.21.1 in /usr/local/lib/python3.6/dist-packages (from requests->transformers) (1.24.3)\n",
            "Requirement already satisfied: s3transfer<0.4.0,>=0.3.0 in /usr/local/lib/python3.6/dist-packages (from boto3->transformers) (0.3.3)\n",
            "Requirement already satisfied: botocore<1.16.0,>=1.15.43 in /usr/local/lib/python3.6/dist-packages (from boto3->transformers) (1.15.43)\n",
            "Requirement already satisfied: jmespath<1.0.0,>=0.7.1 in /usr/local/lib/python3.6/dist-packages (from boto3->transformers) (0.9.5)\n",
            "Requirement already satisfied: click in /usr/local/lib/python3.6/dist-packages (from sacremoses->transformers) (7.1.1)\n",
            "Requirement already satisfied: joblib in /usr/local/lib/python3.6/dist-packages (from sacremoses->transformers) (0.14.1)\n",
            "Requirement already satisfied: six in /usr/local/lib/python3.6/dist-packages (from sacremoses->transformers) (1.12.0)\n",
            "Requirement already satisfied: python-dateutil<3.0.0,>=2.1 in /usr/local/lib/python3.6/dist-packages (from botocore<1.16.0,>=1.15.43->boto3->transformers) (2.8.1)\n",
            "Requirement already satisfied: docutils<0.16,>=0.10 in /usr/local/lib/python3.6/dist-packages (from botocore<1.16.0,>=1.15.43->boto3->transformers) (0.15.2)\n"
          ],
          "name": "stdout"
        }
      ]
    },
    {
      "cell_type": "code",
      "metadata": {
        "colab_type": "code",
        "id": "EnVIV6Vt8f4d",
        "scrolled": true,
        "outputId": "6f977922-6c79-484f-ea78-5fc6031aa7fc",
        "colab": {
          "base_uri": "https://localhost:8080/",
          "height": 35
        }
      },
      "source": [
        "import math\n",
        "import numpy as np\n",
        "import pandas as pd\n",
        "import random as rn\n",
        "import tensorflow as tf\n",
        "from transformers import BertTokenizer\n",
        "from transformers import TFBertForSequenceClassification\n",
        "from sklearn.model_selection import train_test_split\n",
        "from keras.preprocessing.sequence import pad_sequences\n",
        "from tensorflow.keras.callbacks import ModelCheckpoint, EarlyStopping, TensorBoard"
      ],
      "execution_count": 2,
      "outputs": [
        {
          "output_type": "stream",
          "text": [
            "Using TensorFlow backend.\n"
          ],
          "name": "stderr"
        }
      ]
    },
    {
      "cell_type": "code",
      "metadata": {
        "colab_type": "code",
        "id": "cUYrv06z8gaF",
        "colab": {}
      },
      "source": [
        "if False:\n",
        "  rn.seed(321)\n",
        "  np.random.seed(321)\n",
        "  torch.manual_seed(321)\n",
        "  torch.cuda.manual_seed(321)"
      ],
      "execution_count": 0,
      "outputs": []
    },
    {
      "cell_type": "markdown",
      "metadata": {
        "colab_type": "text",
        "id": "rgkbhHcB17GY"
      },
      "source": [
        "## Prepare the Data"
      ]
    },
    {
      "cell_type": "code",
      "metadata": {
        "id": "ffu52YP91RIX",
        "colab_type": "code",
        "colab": {}
      },
      "source": [
        "def get_data(url):\n",
        "\t'''\n",
        "\tSimple function, that ready in the data, cleans it\n",
        "\tand returns it already split and train and test\n",
        "\t'''\n",
        "\tcomplete_data = pd.read_csv(url)\n",
        "\tcomplete_data.dropna()\n",
        "\ttexts = complete_data['content'].to_numpy()\n",
        "\n",
        "\tlabels = complete_data['label'].to_numpy()\n",
        "\n",
        "\tprint('Data will be returned as: ')\n",
        "\tprint('x_train, x_val, x_test, y_train, y_val, y_test')\n",
        "\tx_train, x_test, y_train, y_test = train_test_split(texts, labels, train_size=0.8)\n",
        "\tx_train, x_val, y_train, y_val = train_test_split(x_train, y_train, train_size=0.8)\n",
        "\treturn x_train, x_val, x_test, y_train, y_val, y_test"
      ],
      "execution_count": 0,
      "outputs": []
    },
    {
      "cell_type": "code",
      "metadata": {
        "colab_type": "code",
        "id": "ur8i7boP6qtb",
        "outputId": "8cde2481-245d-4e5b-9a07-6fe579206132",
        "colab": {
          "base_uri": "https://localhost:8080/",
          "height": 72
        }
      },
      "source": [
        "liar_data_b = 'https://raw.githubusercontent.com/frietz58/euvsvirus/master/datasets/cleaned_data/liar_data_b.csv'\n",
        "complete_set = 'https://raw.githubusercontent.com/frietz58/euvsvirus/master/datasets/complete-set.csv'\n",
        "x_train, x_valid, x_test, y_train, y_valid, y_test = get_data(complete_set)\n",
        "x_train.shape, x_valid.shape, x_test.shape"
      ],
      "execution_count": 4,
      "outputs": [
        {
          "output_type": "stream",
          "text": [
            "Data will be returned as: \n",
            "x_train, x_val, x_test, y_train, y_val, y_test\n"
          ],
          "name": "stdout"
        },
        {
          "output_type": "execute_result",
          "data": {
            "text/plain": [
              "((21632,), (5408,), (6760,))"
            ]
          },
          "metadata": {
            "tags": []
          },
          "execution_count": 4
        }
      ]
    },
    {
      "cell_type": "markdown",
      "metadata": {
        "id": "9w1KNAGeiqz9",
        "colab_type": "text"
      },
      "source": [
        "Check balance between classes:"
      ]
    },
    {
      "cell_type": "code",
      "metadata": {
        "colab_type": "code",
        "id": "F7POtHuIOV-6",
        "outputId": "5e1f59e4-50c3-4257-bf76-10d42a9de5b5",
        "colab": {
          "base_uri": "https://localhost:8080/",
          "height": 35
        }
      },
      "source": [
        "np.mean(y_train), np.mean(y_valid), np.mean(y_test)"
      ],
      "execution_count": 5,
      "outputs": [
        {
          "output_type": "execute_result",
          "data": {
            "text/plain": [
              "(0.4803069526627219, 0.48298816568047337, 0.46597633136094674)"
            ]
          },
          "metadata": {
            "tags": []
          },
          "execution_count": 5
        }
      ]
    },
    {
      "cell_type": "markdown",
      "metadata": {
        "id": "HWlWFN-KhQKP",
        "colab_type": "text"
      },
      "source": [
        "BERT tokenization: BERT was trained using the WordPiece tokenization. It means that a word can be broken down into more than one sub-words. This kind of tokenization is beneficial when dealing with out of vocabulary words, and it may help better represent complicated words. The sub-words are constructed during the training time and depend on the corpus the model was trained on."
      ]
    },
    {
      "cell_type": "code",
      "metadata": {
        "colab_type": "code",
        "id": "ty24UrRjqIsb",
        "colab": {}
      },
      "source": [
        "tokenizer = BertTokenizer.from_pretrained('bert-base-uncased', do_lower_case=True)"
      ],
      "execution_count": 0,
      "outputs": []
    },
    {
      "cell_type": "code",
      "metadata": {
        "colab_type": "code",
        "id": "26trq3gIrJeG",
        "outputId": "5433fcd2-7fea-455a-f1d2-ba63d200de48",
        "colab": {
          "base_uri": "https://localhost:8080/",
          "height": 35
        }
      },
      "source": [
        "tokenizer.tokenize('Hi my name is Pia bitches')"
      ],
      "execution_count": 7,
      "outputs": [
        {
          "output_type": "execute_result",
          "data": {
            "text/plain": [
              "['hi', 'my', 'name', 'is', 'pia', 'bitch', '##es']"
            ]
          },
          "metadata": {
            "tags": []
          },
          "execution_count": 7
        }
      ]
    },
    {
      "cell_type": "markdown",
      "metadata": {
        "id": "UxWLlx4whyFA",
        "colab_type": "text"
      },
      "source": [
        "The cell below creates the tokenizer, tokenizes each review, adds the special [CLS] token, and then takes only the first 512 tokens for both train and test sets (512 is the maximum sequence size for BERT):"
      ]
    },
    {
      "cell_type": "code",
      "metadata": {
        "colab_type": "code",
        "id": "1k9rcOzQr5Zm",
        "outputId": "2a808686-ecbb-42b6-fa08-6e601b98ea06",
        "colab": {
          "base_uri": "https://localhost:8080/",
          "height": 35
        }
      },
      "source": [
        "train_tokens = list(map(lambda t: ['[CLS]'] + tokenizer.tokenize(t)[:510] + ['[SEP]'], x_train))\n",
        "valid_tokens = list(map(lambda t: ['[CLS]'] + tokenizer.tokenize(t)[:510] + ['[SEP]'], x_valid))\n",
        "test_tokens = list(map(lambda t: ['[CLS]'] + tokenizer.tokenize(t)[:510] + ['[SEP]'], x_test))\n",
        "\n",
        "len(train_tokens), len(valid_tokens), len(test_tokens)                   "
      ],
      "execution_count": 8,
      "outputs": [
        {
          "output_type": "execute_result",
          "data": {
            "text/plain": [
              "(21632, 5408, 6760)"
            ]
          },
          "metadata": {
            "tags": []
          },
          "execution_count": 8
        }
      ]
    },
    {
      "cell_type": "markdown",
      "metadata": {
        "id": "lH__XxakiFBW",
        "colab_type": "text"
      },
      "source": [
        "Next, we need to convert each token in each review to an id as present in the tokenizer vocabulary. If there’s a token that is not present in the vocabulary, the tokenizer will use the special [UNK] token and use its id. Then we pad all sequences to size 512.\n",
        "\n",
        "NOTE: post-padding might impede an LSTM classifier!"
      ]
    },
    {
      "cell_type": "code",
      "metadata": {
        "colab_type": "code",
        "id": "9Ca7KKnhuT5c",
        "outputId": "6c2a9b5f-a89a-46ab-f69a-8e7c80584b00",
        "colab": {
          "base_uri": "https://localhost:8080/",
          "height": 35
        }
      },
      "source": [
        "train_tokens_ids = pad_sequences(list(map(tokenizer.convert_tokens_to_ids, train_tokens)), maxlen=512, truncating=\"post\", padding=\"post\", dtype=\"int\")\n",
        "valid_tokens_ids = pad_sequences(list(map(tokenizer.convert_tokens_to_ids, valid_tokens)), maxlen=512, truncating=\"post\", padding=\"post\", dtype=\"int\")\n",
        "test_tokens_ids = pad_sequences(list(map(tokenizer.convert_tokens_to_ids, test_tokens)), maxlen=512, truncating=\"post\", padding=\"post\", dtype=\"int\")\n",
        "\n",
        "train_tokens_ids.shape, valid_tokens_ids.shape, test_tokens_ids.shape"
      ],
      "execution_count": 9,
      "outputs": [
        {
          "output_type": "execute_result",
          "data": {
            "text/plain": [
              "((21632, 512), (5408, 512), (6760, 512))"
            ]
          },
          "metadata": {
            "tags": []
          },
          "execution_count": 9
        }
      ]
    },
    {
      "cell_type": "markdown",
      "metadata": {
        "id": "WoY8V4SLnGGM",
        "colab_type": "text"
      },
      "source": [
        "Create attention masks. From BertModel doc:\n",
        "> Mask to avoid performing attention on padding token indices. Mask values selected in [0, 1]: 1 for tokens that are NOT MASKED, 0 for MASKED tokens.\n",
        "\n"
      ]
    },
    {
      "cell_type": "code",
      "metadata": {
        "colab_type": "code",
        "id": "U-xXMEqXOWTE",
        "colab": {}
      },
      "source": [
        "train_masks = [[float(i > 0) for i in ii] for ii in train_tokens_ids]\n",
        "valid_masks = [[float(i > 0) for i in ii] for ii in valid_tokens_ids]\n",
        "test_masks = [[float(i > 0) for i in ii] for ii in test_tokens_ids]"
      ],
      "execution_count": 0,
      "outputs": []
    },
    {
      "cell_type": "markdown",
      "metadata": {
        "colab_type": "text",
        "id": "2K4JQMFo1-_S"
      },
      "source": [
        "# Baseline"
      ]
    },
    {
      "cell_type": "code",
      "metadata": {
        "colab_type": "code",
        "id": "wdzjl_WlwpKr",
        "colab": {}
      },
      "source": [
        "from sklearn.feature_extraction.text import CountVectorizer\n",
        "from sklearn.linear_model import LogisticRegression\n",
        "from sklearn.pipeline import make_pipeline\n",
        "from sklearn.metrics import classification_report"
      ],
      "execution_count": 0,
      "outputs": []
    },
    {
      "cell_type": "code",
      "metadata": {
        "colab_type": "code",
        "id": "9jyb-hJ0xAgG",
        "colab": {}
      },
      "source": [
        "baseline_model = make_pipeline(CountVectorizer(ngram_range=(1,3)), LogisticRegression(max_iter=10000)).fit(x_train, y_train)"
      ],
      "execution_count": 0,
      "outputs": []
    },
    {
      "cell_type": "code",
      "metadata": {
        "colab_type": "code",
        "id": "q9IzjAX_2VLf",
        "colab": {}
      },
      "source": [
        "baseline_predicted = baseline_model.predict(x_test)"
      ],
      "execution_count": 0,
      "outputs": []
    },
    {
      "cell_type": "code",
      "metadata": {
        "colab_type": "code",
        "id": "QnsCRIaQ3GPQ",
        "outputId": "0ef5c6cd-4df7-4a4f-8148-17fa996ec578",
        "colab": {
          "base_uri": "https://localhost:8080/",
          "height": 181
        }
      },
      "source": [
        "print(classification_report(y_test, baseline_predicted))"
      ],
      "execution_count": 14,
      "outputs": [
        {
          "output_type": "stream",
          "text": [
            "              precision    recall  f1-score   support\n",
            "\n",
            "           0       0.64      0.69      0.66      1416\n",
            "           1       0.57      0.52      0.55      1142\n",
            "\n",
            "    accuracy                           0.61      2558\n",
            "   macro avg       0.61      0.60      0.60      2558\n",
            "weighted avg       0.61      0.61      0.61      2558\n",
            "\n"
          ],
          "name": "stdout"
        }
      ]
    },
    {
      "cell_type": "markdown",
      "metadata": {
        "colab_type": "text",
        "id": "c9LPIYcn99r8"
      },
      "source": [
        "# Fine-tune BERT\n",
        "Code from [transformers quick tour](https://github.com/huggingface/transformers#quick-tour-tf-20-training-and-pytorch-interoperability)"
      ]
    },
    {
      "cell_type": "code",
      "metadata": {
        "id": "2o3LE7Gin56a",
        "colab_type": "code",
        "colab": {
          "base_uri": "https://localhost:8080/",
          "height": 128
        },
        "outputId": "d0f2a1a0-7fe9-4430-8de6-844404617e9a"
      },
      "source": [
        "print(tf.config.list_physical_devices('GPU'))\n",
        "\n",
        "# Only check for gpu's with cuda support\n",
        "print(tf.test.is_gpu_available(cuda_only=True))"
      ],
      "execution_count": 11,
      "outputs": [
        {
          "output_type": "stream",
          "text": [
            "[PhysicalDevice(name='/physical_device:GPU:0', device_type='GPU')]\n",
            "WARNING:tensorflow:From <ipython-input-11-5232e2939266>:4: is_gpu_available (from tensorflow.python.framework.test_util) is deprecated and will be removed in a future version.\n",
            "Instructions for updating:\n",
            "Use `tf.config.list_physical_devices('GPU')` instead.\n",
            "True\n"
          ],
          "name": "stdout"
        }
      ]
    },
    {
      "cell_type": "code",
      "metadata": {
        "id": "6FbkynARt8q_",
        "colab_type": "code",
        "colab": {}
      },
      "source": [
        "# Load model from pretrained model\n",
        "model = TFBertForSequenceClassification.from_pretrained('bert-base-uncased')"
      ],
      "execution_count": 0,
      "outputs": []
    },
    {
      "cell_type": "code",
      "metadata": {
        "id": "zxlZLzXfuDSO",
        "colab_type": "code",
        "outputId": "3f69bbff-0087-416a-f619-40c620f1b0a3",
        "colab": {
          "base_uri": "https://localhost:8080/",
          "height": 272
        }
      },
      "source": [
        "# Prepare training: Compile tf.keras model with optimizer, loss and learning rate schedule\n",
        "optimizer = tf.keras.optimizers.Adam(learning_rate=3e-5, epsilon=1e-08, clipnorm=1.0)\n",
        "loss = tf.keras.losses.SparseCategoricalCrossentropy(from_logits=True)\n",
        "metric = tf.keras.metrics.SparseCategoricalAccuracy('accuracy')\n",
        "model.compile(optimizer=optimizer, loss=loss, metrics=[metric])\n",
        "\n",
        "model.summary()"
      ],
      "execution_count": 13,
      "outputs": [
        {
          "output_type": "stream",
          "text": [
            "Model: \"tf_bert_for_sequence_classification\"\n",
            "_________________________________________________________________\n",
            "Layer (type)                 Output Shape              Param #   \n",
            "=================================================================\n",
            "bert (TFBertMainLayer)       multiple                  109482240 \n",
            "_________________________________________________________________\n",
            "dropout_37 (Dropout)         multiple                  0         \n",
            "_________________________________________________________________\n",
            "classifier (Dense)           multiple                  1538      \n",
            "=================================================================\n",
            "Total params: 109,483,778\n",
            "Trainable params: 109,483,778\n",
            "Non-trainable params: 0\n",
            "_________________________________________________________________\n"
          ],
          "name": "stdout"
        }
      ]
    },
    {
      "cell_type": "code",
      "metadata": {
        "id": "lCiiHXce2KPO",
        "colab_type": "code",
        "colab": {}
      },
      "source": [
        "# Store input and target as Tensorflow Dataset\n",
        "train_data = tf.data.Dataset.from_tensor_slices(((train_tokens_ids, train_masks), y_train))\n",
        "valid_data = tf.data.Dataset.from_tensor_slices(((valid_tokens_ids, valid_masks), y_valid))\n",
        "test_data = tf.data.Dataset.from_tensor_slices(((test_tokens_ids, test_masks), y_test))\n",
        "\n",
        "train_data = train_data.shuffle(100).batch(4).repeat(2)\n",
        "valid_data = valid_data.batch(4)\n",
        "test_data = test_data.batch(1)"
      ],
      "execution_count": 0,
      "outputs": []
    },
    {
      "cell_type": "code",
      "metadata": {
        "id": "M-FR9iPXsYc5",
        "colab_type": "code",
        "colab": {
          "base_uri": "https://localhost:8080/",
          "height": 72
        },
        "outputId": "968be5db-910b-4ba9-f845-a118e086c8bf"
      },
      "source": [
        "train_data, valid_data, test_data"
      ],
      "execution_count": 15,
      "outputs": [
        {
          "output_type": "execute_result",
          "data": {
            "text/plain": [
              "(<RepeatDataset shapes: (((None, 512), (None, 512)), (None,)), types: ((tf.int64, tf.float32), tf.int64)>,\n",
              " <BatchDataset shapes: (((None, 512), (None, 512)), (None,)), types: ((tf.int64, tf.float32), tf.int64)>,\n",
              " <BatchDataset shapes: (((None, 512), (None, 512)), (None,)), types: ((tf.int64, tf.float32), tf.int64)>)"
            ]
          },
          "metadata": {
            "tags": []
          },
          "execution_count": 15
        }
      ]
    },
    {
      "cell_type": "code",
      "metadata": {
        "id": "8aZTXDmRHQDm",
        "colab_type": "code",
        "colab": {
          "base_uri": "https://localhost:8080/",
          "height": 217
        },
        "outputId": "9a8c3a00-04bb-4236-9fd5-3dfdc749d856"
      },
      "source": [
        "# Sanity check: display one sample from the dataset\n",
        "it = iter(train_data)\n",
        "next(it)"
      ],
      "execution_count": 16,
      "outputs": [
        {
          "output_type": "execute_result",
          "data": {
            "text/plain": [
              "((<tf.Tensor: shape=(4, 512), dtype=int64, numpy=\n",
              "  array([[  101,  2004, 13350, ...,     0,     0,     0],\n",
              "         [  101, 16824,  3633, ...,     0,     0,     0],\n",
              "         [  101,  2065,  2002, ...,     0,     0,     0],\n",
              "         [  101,  1037,  7514, ...,     0,     0,     0]])>,\n",
              "  <tf.Tensor: shape=(4, 512), dtype=float32, numpy=\n",
              "  array([[1., 1., 1., ..., 0., 0., 0.],\n",
              "         [1., 1., 1., ..., 0., 0., 0.],\n",
              "         [1., 1., 1., ..., 0., 0., 0.],\n",
              "         [1., 1., 1., ..., 0., 0., 0.]], dtype=float32)>),\n",
              " <tf.Tensor: shape=(4,), dtype=int64, numpy=array([0, 1, 1, 1])>)"
            ]
          },
          "metadata": {
            "tags": []
          },
          "execution_count": 16
        }
      ]
    },
    {
      "cell_type": "code",
      "metadata": {
        "id": "xnAbtfr3Q6sF",
        "colab_type": "code",
        "outputId": "bd8ba0ac-416a-497e-d17a-5c30ac627db5",
        "colab": {
          "base_uri": "https://localhost:8080/",
          "height": 53
        }
      },
      "source": [
        "# Sanity check: accuracy should be around the dataset mean\n",
        "scores = model.evaluate(test_data, steps=100)\n",
        "print(\"Loss: {0}, accuracy: {1} \".format(scores[0], scores[1]))"
      ],
      "execution_count": 17,
      "outputs": [
        {
          "output_type": "stream",
          "text": [
            "100/100 [==============================] - 5s 53ms/step - loss: 0.6916 - accuracy: 0.5400\n",
            "Loss: 0.6916468143463135, accuracy: 0.5400000214576721 \n"
          ],
          "name": "stdout"
        }
      ]
    },
    {
      "cell_type": "code",
      "metadata": {
        "id": "2eMgOoDO511i",
        "colab_type": "code",
        "colab": {}
      },
      "source": [
        "# Define callbacks\n",
        "# TODO Change callback to save every 1000 steps or so\n",
        "save_best_model = ModelCheckpoint('weights.{epoch:02d}-{val_loss:.2f}.hdf5', monitor='val_loss', verbose=0, save_best_only=True, save_freq='epoch')\n",
        "early_stopping = EarlyStopping(monitor='val_loss', min_delta=0.01, patience=2, verbose=0)"
      ],
      "execution_count": 0,
      "outputs": []
    },
    {
      "cell_type": "code",
      "metadata": {
        "id": "UTHDZ8jXMWQ5",
        "colab_type": "code",
        "outputId": "b69d88c5-2bda-4936-d7f4-60b2c3a95e38",
        "colab": {
          "base_uri": "https://localhost:8080/",
          "height": 126
        }
      },
      "source": [
        "# Train and evaluate using tf.keras.Model.fit()\n",
        "out = model.fit(train_data, epochs=10, callbacks=[save_best_model, early_stopping], validation_data=valid_data)"
      ],
      "execution_count": 19,
      "outputs": [
        {
          "output_type": "stream",
          "text": [
            "Epoch 1/10\n",
            "10816/10816 [==============================] - 6130s 567ms/step - loss: 0.3304 - accuracy: 0.8314 - val_loss: 0.3614 - val_accuracy: 0.8373\n",
            "Epoch 2/10\n",
            "10816/10816 [==============================] - 6130s 567ms/step - loss: 0.2826 - accuracy: 0.8929 - val_loss: 0.5332 - val_accuracy: 0.8508\n",
            "Epoch 3/10\n",
            "10816/10816 [==============================] - 6125s 566ms/step - loss: 0.3127 - accuracy: 0.8934 - val_loss: 0.4608 - val_accuracy: 0.8271\n"
          ],
          "name": "stdout"
        }
      ]
    },
    {
      "cell_type": "code",
      "metadata": {
        "id": "i0jz0vnmvA_K",
        "colab_type": "code",
        "outputId": "9265b0e7-b40e-4bf0-aa05-f58f592becdb",
        "colab": {
          "base_uri": "https://localhost:8080/",
          "height": 53
        }
      },
      "source": [
        "scores = model.evaluate(test_data)\n",
        "print(\"Loss: {0}, accuracy: {1} \".format(scores[0], scores[1]))"
      ],
      "execution_count": 20,
      "outputs": [
        {
          "output_type": "stream",
          "text": [
            "6760/6760 [==============================] - 364s 54ms/step - loss: 0.4567 - accuracy: 0.8195\n",
            "Loss: 0.45669153332710266, accuracy: 0.8195266127586365 \n"
          ],
          "name": "stdout"
        }
      ]
    },
    {
      "cell_type": "code",
      "metadata": {
        "id": "DYOURiWn3EPj",
        "colab_type": "code",
        "colab": {
          "base_uri": "https://localhost:8080/",
          "height": 295
        },
        "outputId": "e18e6668-c445-4831-8478-2d14da2b65f7"
      },
      "source": [
        "# Visualise the loss\n",
        "import matplotlib.pyplot as plt\n",
        "\n",
        "plt.figure()\n",
        "plt.plot(out.history['loss'])\n",
        "# plt.plot(out.history['val_loss'])\n",
        "plt.title('model loss')\n",
        "plt.ylabel('loss')\n",
        "plt.xlabel('epoch')\n",
        "plt.legend(['train', 'validation'], loc='upper left')\n",
        "plt.show()"
      ],
      "execution_count": 21,
      "outputs": [
        {
          "output_type": "display_data",
          "data": {
            "image/png": "[encoded data removed]",
            "text/plain": [
              "<Figure size 432x288 with 1 Axes>"
            ]
          },
          "metadata": {
            "tags": [],
            "needs_background": "light"
          }
        }
      ]
    },
    {
      "cell_type": "code",
      "metadata": {
        "id": "0OHk5jkgsnss",
        "colab_type": "code",
        "colab": {}
      },
      "source": [
        "# Load the TensorFlow model in PyTorch for inspection\n",
        "# model.save_pretrained('./save/')"
      ],
      "execution_count": 0,
      "outputs": []
    }
  ]
}